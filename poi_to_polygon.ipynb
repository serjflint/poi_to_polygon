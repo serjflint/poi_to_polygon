{
 "cells": [
  {
   "cell_type": "code",
   "execution_count": 10,
   "id": "734395ba-8373-4935-bca6-f5a788a08a7e",
   "metadata": {},
   "outputs": [],
   "source": [
    "import pathlib\n",
    "\n",
    "import geopandas as gpd\n",
    "import pandas as pd\n",
    "\n",
    "file_name = \"input.xlsx\"\n",
    "file_path = pathlib.Path(\"~/Downloads/\", file_name).expanduser()\n",
    "radius_m = 100000\n",
    "\n",
    "\n",
    "df_pois = pd.read_excel(file_path, engine=\"openpyxl\")\n",
    "gdf = gpd.GeoDataFrame(\n",
    "    df_pois,\n",
    "    geometry=gpd.points_from_xy(df_pois[\"longitude\"], df_pois[\"latitude\"], crs=\"EPSG:4326\"),\n",
    ")\n",
    "gdf = gdf.to_crs(3043)\n",
    "gdf[\"geometry\"] = gdf[\"geometry\"].buffer(radius_m)\n",
    "gdf = gdf.to_crs(4326)\n",
    "gdf.to_file(\"output.kml\", driver=\"KML\")\n",
    "gdf[\"geometry\"].explore()"
   ]
  }
 ],
 "metadata": {
  "kernelspec": {
   "display_name": "Python 3 (ipykernel)",
   "language": "python",
   "name": "python3"
  },
  "language_info": {
   "codemirror_mode": {
    "name": "ipython",
    "version": 3
   },
   "file_extension": ".py",
   "mimetype": "text/x-python",
   "name": "python",
   "nbconvert_exporter": "python",
   "pygments_lexer": "ipython3",
   "version": "3.12.4"
  }
 },
 "nbformat": 4,
 "nbformat_minor": 5
}
